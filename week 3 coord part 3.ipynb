{
 "cells": [
  {
   "cell_type": "code",
   "execution_count": 1,
   "metadata": {},
   "outputs": [
    {
     "name": "stdout",
     "output_type": "stream",
     "text": [
      "Solving environment: done\n",
      "\n",
      "# All requested packages already installed.\n",
      "\n",
      "Solving environment: done\n",
      "\n",
      "# All requested packages already installed.\n",
      "\n",
      "Libraries imported.\n"
     ]
    }
   ],
   "source": [
    "#import libraries\n",
    "\n",
    "import requests\n",
    "import numpy as np  # useful for many scientific computing in Python\n",
    "import pandas as pd # primary data structure library\n",
    "\n",
    "pd.set_option('display.max_columns', None)\n",
    "pd.set_option('display.max_rows', None)\n",
    "\n",
    "import json # library to handle JSON files\n",
    "\n",
    "!conda install -c conda-forge geopy --yes # uncomment this line if you haven't completed the Foursquare API lab\n",
    "from geopy.geocoders import Nominatim # convert an address into latitude and longitude values\n",
    "\n",
    "import requests # library to handle requests\n",
    "from pandas.io.json import json_normalize # tranform JSON file into a pandas dataframe\n",
    "\n",
    "# Matplotlib and associated plotting modules\n",
    "import matplotlib.cm as cm\n",
    "import matplotlib.colors as colors\n",
    "\n",
    "# import k-means from clustering stage\n",
    "from sklearn.cluster import KMeans\n",
    "\n",
    "!conda install -c conda-forge folium=0.5.0 --yes # uncomment this line if you haven't completed the Foursquare API lab\n",
    "import folium # map rendering library\n",
    "\n",
    "print('Libraries imported.')"
   ]
  },
  {
   "cell_type": "code",
   "execution_count": 2,
   "metadata": {},
   "outputs": [
    {
     "name": "stdout",
     "output_type": "stream",
     "text": [
      "Requirement already satisfied: beautifulsoup4 in /home/jupyterlab/conda/lib/python3.6/site-packages (4.6.0)\n",
      "\u001b[31mdistributed 1.21.8 requires msgpack, which is not installed.\u001b[0m\n"
     ]
    }
   ],
   "source": [
    "!pip install beautifulsoup4"
   ]
  },
  {
   "cell_type": "code",
   "execution_count": 3,
   "metadata": {},
   "outputs": [
    {
     "name": "stdout",
     "output_type": "stream",
     "text": [
      "Requirement already satisfied: lxml in /home/jupyterlab/conda/lib/python3.6/site-packages (4.2.1)\n",
      "\u001b[31mdistributed 1.21.8 requires msgpack, which is not installed.\u001b[0m\n"
     ]
    }
   ],
   "source": [
    "!pip install lxml"
   ]
  },
  {
   "cell_type": "code",
   "execution_count": 4,
   "metadata": {},
   "outputs": [
    {
     "name": "stdout",
     "output_type": "stream",
     "text": [
      "Requirement already satisfied: html5lib in /home/jupyterlab/conda/lib/python3.6/site-packages (0.9999999)\n",
      "Requirement already satisfied: six in /home/jupyterlab/conda/lib/python3.6/site-packages (from html5lib) (1.11.0)\n",
      "\u001b[31mdistributed 1.21.8 requires msgpack, which is not installed.\u001b[0m\n"
     ]
    }
   ],
   "source": [
    "!pip install html5lib"
   ]
  },
  {
   "cell_type": "code",
   "execution_count": 5,
   "metadata": {},
   "outputs": [
    {
     "name": "stdout",
     "output_type": "stream",
     "text": [
      "Requirement already satisfied: requests in /home/jupyterlab/conda/lib/python3.6/site-packages (2.18.4)\n",
      "Requirement already satisfied: chardet<3.1.0,>=3.0.2 in /home/jupyterlab/conda/lib/python3.6/site-packages (from requests) (3.0.4)\n",
      "Requirement already satisfied: idna<2.7,>=2.5 in /home/jupyterlab/conda/lib/python3.6/site-packages (from requests) (2.6)\n",
      "Requirement already satisfied: urllib3<1.23,>=1.21.1 in /home/jupyterlab/conda/lib/python3.6/site-packages (from requests) (1.22)\n",
      "Requirement already satisfied: certifi>=2017.4.17 in /home/jupyterlab/conda/lib/python3.6/site-packages (from requests) (2018.8.24)\n",
      "\u001b[31mdistributed 1.21.8 requires msgpack, which is not installed.\u001b[0m\n"
     ]
    }
   ],
   "source": [
    "!pip install requests"
   ]
  },
  {
   "cell_type": "code",
   "execution_count": 6,
   "metadata": {},
   "outputs": [],
   "source": [
    "from bs4 import BeautifulSoup"
   ]
  },
  {
   "cell_type": "code",
   "execution_count": 7,
   "metadata": {},
   "outputs": [],
   "source": [
    "#Assign website link to a variable\n",
    "wikipedia_link='https://en.wikipedia.org/wiki/List_of_postal_codes_of_Canada:_M'"
   ]
  },
  {
   "cell_type": "code",
   "execution_count": 8,
   "metadata": {},
   "outputs": [],
   "source": [
    "#Use the function get from the requests library to download the Wikipedia page using the wikipedia_link as an argument. Assign the object to the variable postal_code_page.\n",
    "\n",
    "#hint: requests.get()\n",
    "source = requests.get(wikipedia_link).text\n",
    "soup= BeautifulSoup(source,'lxml')\n",
    "#print(soup.prettify())"
   ]
  },
  {
   "cell_type": "code",
   "execution_count": 9,
   "metadata": {},
   "outputs": [],
   "source": [
    "table = soup.table\n",
    "#print(table)\n",
    "postheader = table.find_all('tr')\n",
    "#print(postheader)"
   ]
  },
  {
   "cell_type": "code",
   "execution_count": 10,
   "metadata": {},
   "outputs": [
    {
     "name": "stdout",
     "output_type": "stream",
     "text": [
      "Requirement already satisfied: tabulate in /home/jupyterlab/conda/lib/python3.6/site-packages (0.8.2)\n",
      "\u001b[31mdistributed 1.21.8 requires msgpack, which is not installed.\u001b[0m\n"
     ]
    }
   ],
   "source": [
    "! pip install tabulate"
   ]
  },
  {
   "cell_type": "code",
   "execution_count": 11,
   "metadata": {},
   "outputs": [
    {
     "data": {
      "text/plain": [
       "pandas.core.frame.DataFrame"
      ]
     },
     "execution_count": 11,
     "metadata": {},
     "output_type": "execute_result"
    }
   ],
   "source": [
    "from tabulate import tabulate\n",
    "table = soup.find_all('table')[0] \n",
    "df_list = pd.read_html(str(table))\n",
    "#df_list[0]\n",
    "type(df_list)\n",
    "#print( tabulate(df_list[0], headers='keys', tablefmt='psql') )\n",
    "\n",
    "data = pd.DataFrame(df_list[0])\n",
    "type(data)\n",
    "#data # 290*3\n",
    "\n",
    "new_header = data.iloc[0] #grab the first row for the header\n",
    "data = data[1:] #take the data less the header row\n",
    "data.columns = new_header #set the header row as the df header\n",
    "\n",
    "type(data) #289*3\n",
    "#data"
   ]
  },
  {
   "cell_type": "code",
   "execution_count": 12,
   "metadata": {},
   "outputs": [
    {
     "data": {
      "text/html": [
       "<div>\n",
       "<style scoped>\n",
       "    .dataframe tbody tr th:only-of-type {\n",
       "        vertical-align: middle;\n",
       "    }\n",
       "\n",
       "    .dataframe tbody tr th {\n",
       "        vertical-align: top;\n",
       "    }\n",
       "\n",
       "    .dataframe thead th {\n",
       "        text-align: right;\n",
       "    }\n",
       "</style>\n",
       "<table border=\"1\" class=\"dataframe\">\n",
       "  <thead>\n",
       "    <tr style=\"text-align: right;\">\n",
       "      <th></th>\n",
       "      <th>Postcode</th>\n",
       "      <th>Borough</th>\n",
       "      <th>Neighbourhood</th>\n",
       "    </tr>\n",
       "  </thead>\n",
       "  <tbody>\n",
       "    <tr>\n",
       "      <th>3</th>\n",
       "      <td>M3A</td>\n",
       "      <td>North York</td>\n",
       "      <td>Parkwoods</td>\n",
       "    </tr>\n",
       "    <tr>\n",
       "      <th>4</th>\n",
       "      <td>M4A</td>\n",
       "      <td>North York</td>\n",
       "      <td>Victoria Village</td>\n",
       "    </tr>\n",
       "    <tr>\n",
       "      <th>5</th>\n",
       "      <td>M5A</td>\n",
       "      <td>Downtown Toronto</td>\n",
       "      <td>Harbourfront</td>\n",
       "    </tr>\n",
       "    <tr>\n",
       "      <th>6</th>\n",
       "      <td>M5A</td>\n",
       "      <td>Downtown Toronto</td>\n",
       "      <td>Regent Park</td>\n",
       "    </tr>\n",
       "    <tr>\n",
       "      <th>7</th>\n",
       "      <td>M6A</td>\n",
       "      <td>North York</td>\n",
       "      <td>Lawrence Heights</td>\n",
       "    </tr>\n",
       "  </tbody>\n",
       "</table>\n",
       "</div>"
      ],
      "text/plain": [
       "0 Postcode           Borough     Neighbourhood\n",
       "3      M3A        North York         Parkwoods\n",
       "4      M4A        North York  Victoria Village\n",
       "5      M5A  Downtown Toronto      Harbourfront\n",
       "6      M5A  Downtown Toronto       Regent Park\n",
       "7      M6A        North York  Lawrence Heights"
      ]
     },
     "execution_count": 12,
     "metadata": {},
     "output_type": "execute_result"
    }
   ],
   "source": [
    "data = data[data.Borough != 'Not assigned']\n",
    "data.head() #212*3"
   ]
  },
  {
   "cell_type": "code",
   "execution_count": 13,
   "metadata": {},
   "outputs": [
    {
     "data": {
      "text/html": [
       "<div>\n",
       "<style scoped>\n",
       "    .dataframe tbody tr th:only-of-type {\n",
       "        vertical-align: middle;\n",
       "    }\n",
       "\n",
       "    .dataframe tbody tr th {\n",
       "        vertical-align: top;\n",
       "    }\n",
       "\n",
       "    .dataframe thead th {\n",
       "        text-align: right;\n",
       "    }\n",
       "</style>\n",
       "<table border=\"1\" class=\"dataframe\">\n",
       "  <thead>\n",
       "    <tr style=\"text-align: right;\">\n",
       "      <th></th>\n",
       "      <th>Postcode</th>\n",
       "      <th>Borough</th>\n",
       "      <th>Neighbourhood</th>\n",
       "    </tr>\n",
       "  </thead>\n",
       "  <tbody>\n",
       "    <tr>\n",
       "      <th>3</th>\n",
       "      <td>M3A</td>\n",
       "      <td>North York</td>\n",
       "      <td>Parkwoods</td>\n",
       "    </tr>\n",
       "    <tr>\n",
       "      <th>4</th>\n",
       "      <td>M4A</td>\n",
       "      <td>North York</td>\n",
       "      <td>Victoria Village</td>\n",
       "    </tr>\n",
       "    <tr>\n",
       "      <th>5</th>\n",
       "      <td>M5A</td>\n",
       "      <td>Downtown Toronto</td>\n",
       "      <td>Harbourfront</td>\n",
       "    </tr>\n",
       "    <tr>\n",
       "      <th>6</th>\n",
       "      <td>M5A</td>\n",
       "      <td>Downtown Toronto</td>\n",
       "      <td>Regent Park</td>\n",
       "    </tr>\n",
       "    <tr>\n",
       "      <th>7</th>\n",
       "      <td>M6A</td>\n",
       "      <td>North York</td>\n",
       "      <td>Lawrence Heights</td>\n",
       "    </tr>\n",
       "  </tbody>\n",
       "</table>\n",
       "</div>"
      ],
      "text/plain": [
       "0 Postcode           Borough     Neighbourhood\n",
       "3      M3A        North York         Parkwoods\n",
       "4      M4A        North York  Victoria Village\n",
       "5      M5A  Downtown Toronto      Harbourfront\n",
       "6      M5A  Downtown Toronto       Regent Park\n",
       "7      M6A        North York  Lawrence Heights"
      ]
     },
     "execution_count": 13,
     "metadata": {},
     "output_type": "execute_result"
    }
   ],
   "source": [
    "#data['Neighbourhood'].loc[data['Neighbourhood'] == 'Not assigned'] = data[data.Borough]\n",
    "#data.loc[data['Neighbourhood'] == 'Not assigned','Neighbourhood'] = data.loc[data[Borough]]\n",
    "data['Neighbourhood'] = data.apply(\n",
    "    lambda row: row['Borough'] if (row['Neighbourhood']=='Not assigned') else row['Neighbourhood'],\n",
    "    axis=1\n",
    ")\n",
    "data.head()"
   ]
  },
  {
   "cell_type": "code",
   "execution_count": 14,
   "metadata": {},
   "outputs": [
    {
     "data": {
      "text/html": [
       "<div>\n",
       "<style scoped>\n",
       "    .dataframe tbody tr th:only-of-type {\n",
       "        vertical-align: middle;\n",
       "    }\n",
       "\n",
       "    .dataframe tbody tr th {\n",
       "        vertical-align: top;\n",
       "    }\n",
       "\n",
       "    .dataframe thead th {\n",
       "        text-align: right;\n",
       "    }\n",
       "</style>\n",
       "<table border=\"1\" class=\"dataframe\">\n",
       "  <thead>\n",
       "    <tr style=\"text-align: right;\">\n",
       "      <th></th>\n",
       "      <th>Postcode</th>\n",
       "      <th>Borough</th>\n",
       "      <th>Neighbourhood</th>\n",
       "    </tr>\n",
       "  </thead>\n",
       "  <tbody>\n",
       "    <tr>\n",
       "      <th>0</th>\n",
       "      <td>M1B</td>\n",
       "      <td>Scarborough</td>\n",
       "      <td>Rouge,Malvern</td>\n",
       "    </tr>\n",
       "    <tr>\n",
       "      <th>1</th>\n",
       "      <td>M1C</td>\n",
       "      <td>Scarborough</td>\n",
       "      <td>Highland Creek,Rouge Hill,Port Union</td>\n",
       "    </tr>\n",
       "    <tr>\n",
       "      <th>2</th>\n",
       "      <td>M1E</td>\n",
       "      <td>Scarborough</td>\n",
       "      <td>Guildwood]],Morningside,West Hill</td>\n",
       "    </tr>\n",
       "    <tr>\n",
       "      <th>3</th>\n",
       "      <td>M1G</td>\n",
       "      <td>Scarborough</td>\n",
       "      <td>Woburn</td>\n",
       "    </tr>\n",
       "    <tr>\n",
       "      <th>4</th>\n",
       "      <td>M1H</td>\n",
       "      <td>Scarborough</td>\n",
       "      <td>Cedarbrae</td>\n",
       "    </tr>\n",
       "  </tbody>\n",
       "</table>\n",
       "</div>"
      ],
      "text/plain": [
       "  Postcode      Borough                         Neighbourhood\n",
       "0      M1B  Scarborough                         Rouge,Malvern\n",
       "1      M1C  Scarborough  Highland Creek,Rouge Hill,Port Union\n",
       "2      M1E  Scarborough     Guildwood]],Morningside,West Hill\n",
       "3      M1G  Scarborough                                Woburn\n",
       "4      M1H  Scarborough                             Cedarbrae"
      ]
     },
     "execution_count": 14,
     "metadata": {},
     "output_type": "execute_result"
    }
   ],
   "source": [
    "data_group = data.groupby(['Postcode','Borough'])['Neighbourhood'].apply(','.join).reset_index()\n",
    "data_group.head()"
   ]
  },
  {
   "cell_type": "code",
   "execution_count": 15,
   "metadata": {},
   "outputs": [
    {
     "data": {
      "text/plain": [
       "(103, 3)"
      ]
     },
     "execution_count": 15,
     "metadata": {},
     "output_type": "execute_result"
    }
   ],
   "source": [
    "data_group.shape"
   ]
  },
  {
   "cell_type": "code",
   "execution_count": 16,
   "metadata": {},
   "outputs": [],
   "source": [
    "for index, row in data_group.iterrows():\n",
    "    address_1 = row['Neighbourhood'] \n",
    "    address_2 = address_1.split(',')[-1]\n",
    "    address_3 = address_2+\",\"+\"Ontario,Canada\"\n",
    "    #print(address_3) #-- It worked"
   ]
  },
  {
   "cell_type": "code",
   "execution_count": 17,
   "metadata": {},
   "outputs": [
    {
     "data": {
      "text/plain": [
       "(0, 2)"
      ]
     },
     "execution_count": 17,
     "metadata": {},
     "output_type": "execute_result"
    }
   ],
   "source": [
    "column_names = ['Latitude', 'Longitude'] \n",
    "n_hood = pd.DataFrame(columns=column_names)\n",
    "n_hood.shape"
   ]
  },
  {
   "cell_type": "code",
   "execution_count": 18,
   "metadata": {},
   "outputs": [
    {
     "name": "stderr",
     "output_type": "stream",
     "text": [
      "/home/jupyterlab/conda/lib/python3.6/site-packages/geopy/geocoders/osm.py:143: UserWarning: Using Nominatim with the default \"geopy/1.17.0\" `user_agent` is strongly discouraged, as it violates Nominatim's ToS https://operations.osmfoundation.org/policies/nominatim/ and may possibly cause 403 and 429 HTTP errors. Please specify a custom `user_agent` with `Nominatim(user_agent=\"my-application\")` or by overriding the default `user_agent`: `geopy.geocoders.options.default_user_agent = \"my-application\"`. In geopy 2.0 this will become an exception.\n",
      "  UserWarning\n"
     ]
    }
   ],
   "source": [
    "for index, row in data_group.iterrows():\n",
    "    try:\n",
    "        address_1 = row['Neighbourhood'] \n",
    "        address_2 = address_1.split(',')[-1]\n",
    "        address = address_2+\",\"+\"Ontario,Canada\"\n",
    "        geolocator = Nominatim()\n",
    "        location = geolocator.geocode(address)\n",
    "        latitude = location.latitude\n",
    "        longitude = location.longitude\n",
    "        #print(row['Borough'],address, latitude, longitude)\n",
    "        n_hood = n_hood.append({'Latitude': latitude,'Longitude': longitude}, ignore_index=True)\n",
    "        n_hood\n",
    "        pass\n",
    "    except ValueError as error_message:\n",
    "        print(\"Error\")\n",
    "    except AttributeError:\n",
    "        #print(\"Problem with data or cannot Geocode.\")\n",
    "        address_3 = row['Borough']\n",
    "        address = address_3+\",\"+\"Ontario,Canada\"\n",
    "        geolocator = Nominatim()\n",
    "        location = geolocator.geocode(address)\n",
    "        latitude = location.latitude\n",
    "        longitude = location.longitude\n",
    "        #print(address, latitude, longitude)\n",
    "        n_hood = n_hood.append({'Latitude': latitude,'Longitude': longitude}, ignore_index=True)\n",
    "       # print(row['Borough'],address, latitude, longitude)\n",
    "        n_hood\n",
    "        pass"
   ]
  },
  {
   "cell_type": "code",
   "execution_count": 19,
   "metadata": {},
   "outputs": [
    {
     "data": {
      "text/html": [
       "<div>\n",
       "<style scoped>\n",
       "    .dataframe tbody tr th:only-of-type {\n",
       "        vertical-align: middle;\n",
       "    }\n",
       "\n",
       "    .dataframe tbody tr th {\n",
       "        vertical-align: top;\n",
       "    }\n",
       "\n",
       "    .dataframe thead th {\n",
       "        text-align: right;\n",
       "    }\n",
       "</style>\n",
       "<table border=\"1\" class=\"dataframe\">\n",
       "  <thead>\n",
       "    <tr style=\"text-align: right;\">\n",
       "      <th></th>\n",
       "      <th>Latitude</th>\n",
       "      <th>Longitude</th>\n",
       "    </tr>\n",
       "  </thead>\n",
       "  <tbody>\n",
       "    <tr>\n",
       "      <th>0</th>\n",
       "      <td>43.809196</td>\n",
       "      <td>-79.221701</td>\n",
       "    </tr>\n",
       "    <tr>\n",
       "      <th>1</th>\n",
       "      <td>43.775504</td>\n",
       "      <td>-79.134976</td>\n",
       "    </tr>\n",
       "    <tr>\n",
       "      <th>2</th>\n",
       "      <td>43.768914</td>\n",
       "      <td>-79.187291</td>\n",
       "    </tr>\n",
       "    <tr>\n",
       "      <th>3</th>\n",
       "      <td>43.759824</td>\n",
       "      <td>-79.225291</td>\n",
       "    </tr>\n",
       "    <tr>\n",
       "      <th>4</th>\n",
       "      <td>43.756467</td>\n",
       "      <td>-79.226692</td>\n",
       "    </tr>\n",
       "  </tbody>\n",
       "</table>\n",
       "</div>"
      ],
      "text/plain": [
       "    Latitude  Longitude\n",
       "0  43.809196 -79.221701\n",
       "1  43.775504 -79.134976\n",
       "2  43.768914 -79.187291\n",
       "3  43.759824 -79.225291\n",
       "4  43.756467 -79.226692"
      ]
     },
     "execution_count": 19,
     "metadata": {},
     "output_type": "execute_result"
    }
   ],
   "source": [
    "n_hood.head()"
   ]
  },
  {
   "cell_type": "code",
   "execution_count": 20,
   "metadata": {},
   "outputs": [
    {
     "data": {
      "text/html": [
       "<div>\n",
       "<style scoped>\n",
       "    .dataframe tbody tr th:only-of-type {\n",
       "        vertical-align: middle;\n",
       "    }\n",
       "\n",
       "    .dataframe tbody tr th {\n",
       "        vertical-align: top;\n",
       "    }\n",
       "\n",
       "    .dataframe thead th {\n",
       "        text-align: right;\n",
       "    }\n",
       "</style>\n",
       "<table border=\"1\" class=\"dataframe\">\n",
       "  <thead>\n",
       "    <tr style=\"text-align: right;\">\n",
       "      <th></th>\n",
       "      <th>Postcode</th>\n",
       "      <th>Borough</th>\n",
       "      <th>Neighbourhood</th>\n",
       "      <th>Latitude</th>\n",
       "      <th>Longitude</th>\n",
       "    </tr>\n",
       "  </thead>\n",
       "  <tbody>\n",
       "    <tr>\n",
       "      <th>0</th>\n",
       "      <td>M1B</td>\n",
       "      <td>Scarborough</td>\n",
       "      <td>Rouge,Malvern</td>\n",
       "      <td>43.809196</td>\n",
       "      <td>-79.221701</td>\n",
       "    </tr>\n",
       "    <tr>\n",
       "      <th>1</th>\n",
       "      <td>M1C</td>\n",
       "      <td>Scarborough</td>\n",
       "      <td>Highland Creek,Rouge Hill,Port Union</td>\n",
       "      <td>43.775504</td>\n",
       "      <td>-79.134976</td>\n",
       "    </tr>\n",
       "    <tr>\n",
       "      <th>2</th>\n",
       "      <td>M1E</td>\n",
       "      <td>Scarborough</td>\n",
       "      <td>Guildwood]],Morningside,West Hill</td>\n",
       "      <td>43.768914</td>\n",
       "      <td>-79.187291</td>\n",
       "    </tr>\n",
       "    <tr>\n",
       "      <th>3</th>\n",
       "      <td>M1G</td>\n",
       "      <td>Scarborough</td>\n",
       "      <td>Woburn</td>\n",
       "      <td>43.759824</td>\n",
       "      <td>-79.225291</td>\n",
       "    </tr>\n",
       "    <tr>\n",
       "      <th>4</th>\n",
       "      <td>M1H</td>\n",
       "      <td>Scarborough</td>\n",
       "      <td>Cedarbrae</td>\n",
       "      <td>43.756467</td>\n",
       "      <td>-79.226692</td>\n",
       "    </tr>\n",
       "  </tbody>\n",
       "</table>\n",
       "</div>"
      ],
      "text/plain": [
       "  Postcode      Borough                         Neighbourhood   Latitude  \\\n",
       "0      M1B  Scarborough                         Rouge,Malvern  43.809196   \n",
       "1      M1C  Scarborough  Highland Creek,Rouge Hill,Port Union  43.775504   \n",
       "2      M1E  Scarborough     Guildwood]],Morningside,West Hill  43.768914   \n",
       "3      M1G  Scarborough                                Woburn  43.759824   \n",
       "4      M1H  Scarborough                             Cedarbrae  43.756467   \n",
       "\n",
       "   Longitude  \n",
       "0 -79.221701  \n",
       "1 -79.134976  \n",
       "2 -79.187291  \n",
       "3 -79.225291  \n",
       "4 -79.226692  "
      ]
     },
     "execution_count": 20,
     "metadata": {},
     "output_type": "execute_result"
    }
   ],
   "source": [
    "df = pd.concat([data_group, n_hood[['Latitude', 'Longitude']]], axis=1)\n",
    "df.shape\n",
    "df.head()"
   ]
  },
  {
   "cell_type": "code",
   "execution_count": 53,
   "metadata": {},
   "outputs": [
    {
     "name": "stdout",
     "output_type": "stream",
     "text": [
      "The dataframe has 11 boroughs and 103 neighborhoods.\n"
     ]
    },
    {
     "data": {
      "text/plain": [
       "103"
      ]
     },
     "execution_count": 53,
     "metadata": {},
     "output_type": "execute_result"
    }
   ],
   "source": [
    "print('The dataframe has {} boroughs and {} neighborhoods.'.format(\n",
    "        len(df['Borough'].unique()),\n",
    "        df.shape[0]\n",
    "    )\n",
    ")\n",
    "df.shape\n",
    "len(df)"
   ]
  },
  {
   "cell_type": "code",
   "execution_count": 52,
   "metadata": {},
   "outputs": [
    {
     "name": "stderr",
     "output_type": "stream",
     "text": [
      "/home/jupyterlab/conda/lib/python3.6/site-packages/geopy/geocoders/osm.py:143: UserWarning: Using Nominatim with the default \"geopy/1.17.0\" `user_agent` is strongly discouraged, as it violates Nominatim's ToS https://operations.osmfoundation.org/policies/nominatim/ and may possibly cause 403 and 429 HTTP errors. Please specify a custom `user_agent` with `Nominatim(user_agent=\"my-application\")` or by overriding the default `user_agent`: `geopy.geocoders.options.default_user_agent = \"my-application\"`. In geopy 2.0 this will become an exception.\n",
      "  UserWarning\n"
     ]
    },
    {
     "name": "stdout",
     "output_type": "stream",
     "text": [
      "The geograpical coordinate of New York City are 43.653963, -79.387207.\n"
     ]
    }
   ],
   "source": [
    "#address = 'New York City, NY'\n",
    "#address = 'Scarborough,Rouge,Malvern,Ontario,Canada'\n",
    "address = 'Toronto,Canada'\n",
    "geolocator = Nominatim()\n",
    "location = geolocator.geocode(address)\n",
    "latitude = location.latitude\n",
    "longitude = location.longitude\n",
    "print('The geograpical coordinate of New York City are {}, {}.'.format(latitude, longitude))"
   ]
  },
  {
   "cell_type": "code",
   "execution_count": 50,
   "metadata": {},
   "outputs": [
    {
     "data": {
      "text/html": [
       "<div style=\"width:100%;\"><div style=\"position:relative;width:100%;height:0;padding-bottom:60%;\"><iframe src=\"data:text/html;charset=utf-8;base64,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\" style=\"position:absolute;width:100%;height:100%;left:0;top:0;border:none !important;\" allowfullscreen webkitallowfullscreen mozallowfullscreen></iframe></div></div>"
      ],
      "text/plain": [
       "<folium.folium.Map at 0x7fc76464c240>"
      ]
     },
     "execution_count": 50,
     "metadata": {},
     "output_type": "execute_result"
    }
   ],
   "source": [
    "# create map of New York using latitude and longitude values\n",
    "map_toronto = folium.Map(location=[latitude, longitude], zoom_start=10)\n",
    "\n",
    "# add markers to map\n",
    "for lat, lng, borough, neighborhood in zip(df['Latitude'], df['Longitude'], df['Borough'], df['Neighbourhood']):\n",
    "    label = '{}, {}'.format(neighborhood, borough)\n",
    "    label = folium.Popup(label, parse_html=True)\n",
    "    folium.CircleMarker(\n",
    "        [lat, lng],\n",
    "        radius=5,\n",
    "        popup=label,\n",
    "        color='blue',\n",
    "        fill=True,\n",
    "        fill_color='#3186cc',\n",
    "        fill_opacity=0.7,\n",
    "        parse_html=False).add_to(map_toronto)  \n",
    "    \n",
    "map_toronto"
   ]
  },
  {
   "cell_type": "raw",
   "metadata": {},
   "source": [
    "n_hood_1 = df n_hood_1.head() n_hood_2 = n_hood_1.drop('Postcode', axis=1) len(n_hood_2) n_hood_2.head()\n"
   ]
  },
  {
   "cell_type": "markdown",
   "metadata": {},
   "source": [
    "Explore Scarborough"
   ]
  },
  {
   "cell_type": "code",
   "execution_count": 66,
   "metadata": {},
   "outputs": [
    {
     "ename": "KeyError",
     "evalue": "'Borough'",
     "output_type": "error",
     "traceback": [
      "\u001b[0;31m---------------------------------------------------------------------------\u001b[0m",
      "\u001b[0;31mKeyError\u001b[0m                                  Traceback (most recent call last)",
      "\u001b[0;32m~/conda/lib/python3.6/site-packages/pandas/core/indexes/base.py\u001b[0m in \u001b[0;36mget_loc\u001b[0;34m(self, key, method, tolerance)\u001b[0m\n\u001b[1;32m   3062\u001b[0m             \u001b[0;32mtry\u001b[0m\u001b[0;34m:\u001b[0m\u001b[0;34m\u001b[0m\u001b[0m\n\u001b[0;32m-> 3063\u001b[0;31m                 \u001b[0;32mreturn\u001b[0m \u001b[0mself\u001b[0m\u001b[0;34m.\u001b[0m\u001b[0m_engine\u001b[0m\u001b[0;34m.\u001b[0m\u001b[0mget_loc\u001b[0m\u001b[0;34m(\u001b[0m\u001b[0mkey\u001b[0m\u001b[0;34m)\u001b[0m\u001b[0;34m\u001b[0m\u001b[0m\n\u001b[0m\u001b[1;32m   3064\u001b[0m             \u001b[0;32mexcept\u001b[0m \u001b[0mKeyError\u001b[0m\u001b[0;34m:\u001b[0m\u001b[0;34m\u001b[0m\u001b[0m\n",
      "\u001b[0;32mpandas/_libs/index.pyx\u001b[0m in \u001b[0;36mpandas._libs.index.IndexEngine.get_loc\u001b[0;34m()\u001b[0m\n",
      "\u001b[0;32mpandas/_libs/index.pyx\u001b[0m in \u001b[0;36mpandas._libs.index.IndexEngine.get_loc\u001b[0;34m()\u001b[0m\n",
      "\u001b[0;32mpandas/_libs/hashtable_class_helper.pxi\u001b[0m in \u001b[0;36mpandas._libs.hashtable.PyObjectHashTable.get_item\u001b[0;34m()\u001b[0m\n",
      "\u001b[0;32mpandas/_libs/hashtable_class_helper.pxi\u001b[0m in \u001b[0;36mpandas._libs.hashtable.PyObjectHashTable.get_item\u001b[0;34m()\u001b[0m\n",
      "\u001b[0;31mKeyError\u001b[0m: 'Borough'",
      "\nDuring handling of the above exception, another exception occurred:\n",
      "\u001b[0;31mKeyError\u001b[0m                                  Traceback (most recent call last)",
      "\u001b[0;32m<ipython-input-66-ce0fbf6d033a>\u001b[0m in \u001b[0;36m<module>\u001b[0;34m()\u001b[0m\n\u001b[0;32m----> 1\u001b[0;31m \u001b[0mOntario_data\u001b[0m \u001b[0;34m=\u001b[0m \u001b[0mn_hood_2\u001b[0m\u001b[0;34m[\u001b[0m\u001b[0mn_hood_2\u001b[0m\u001b[0;34m[\u001b[0m\u001b[0;34m'Borough'\u001b[0m\u001b[0;34m]\u001b[0m \u001b[0;34m==\u001b[0m \u001b[0;34m'Scarborough'\u001b[0m\u001b[0;34m]\u001b[0m\u001b[0;34m.\u001b[0m\u001b[0mreset_index\u001b[0m\u001b[0;34m(\u001b[0m\u001b[0mdrop\u001b[0m\u001b[0;34m=\u001b[0m\u001b[0;32mTrue\u001b[0m\u001b[0;34m)\u001b[0m\u001b[0;34m\u001b[0m\u001b[0m\n\u001b[0m\u001b[1;32m      2\u001b[0m \u001b[0mOntario_data\u001b[0m\u001b[0;34m.\u001b[0m\u001b[0mhead\u001b[0m\u001b[0;34m(\u001b[0m\u001b[0;34m)\u001b[0m\u001b[0;34m\u001b[0m\u001b[0m\n\u001b[1;32m      3\u001b[0m \u001b[0mOntario_data\u001b[0m\u001b[0;34m.\u001b[0m\u001b[0mhead\u001b[0m\u001b[0;34m(\u001b[0m\u001b[0;34m)\u001b[0m\u001b[0;34m\u001b[0m\u001b[0m\n",
      "\u001b[0;32m~/conda/lib/python3.6/site-packages/pandas/core/frame.py\u001b[0m in \u001b[0;36m__getitem__\u001b[0;34m(self, key)\u001b[0m\n\u001b[1;32m   2683\u001b[0m             \u001b[0;32mreturn\u001b[0m \u001b[0mself\u001b[0m\u001b[0;34m.\u001b[0m\u001b[0m_getitem_multilevel\u001b[0m\u001b[0;34m(\u001b[0m\u001b[0mkey\u001b[0m\u001b[0;34m)\u001b[0m\u001b[0;34m\u001b[0m\u001b[0m\n\u001b[1;32m   2684\u001b[0m         \u001b[0;32melse\u001b[0m\u001b[0;34m:\u001b[0m\u001b[0;34m\u001b[0m\u001b[0m\n\u001b[0;32m-> 2685\u001b[0;31m             \u001b[0;32mreturn\u001b[0m \u001b[0mself\u001b[0m\u001b[0;34m.\u001b[0m\u001b[0m_getitem_column\u001b[0m\u001b[0;34m(\u001b[0m\u001b[0mkey\u001b[0m\u001b[0;34m)\u001b[0m\u001b[0;34m\u001b[0m\u001b[0m\n\u001b[0m\u001b[1;32m   2686\u001b[0m \u001b[0;34m\u001b[0m\u001b[0m\n\u001b[1;32m   2687\u001b[0m     \u001b[0;32mdef\u001b[0m \u001b[0m_getitem_column\u001b[0m\u001b[0;34m(\u001b[0m\u001b[0mself\u001b[0m\u001b[0;34m,\u001b[0m \u001b[0mkey\u001b[0m\u001b[0;34m)\u001b[0m\u001b[0;34m:\u001b[0m\u001b[0;34m\u001b[0m\u001b[0m\n",
      "\u001b[0;32m~/conda/lib/python3.6/site-packages/pandas/core/frame.py\u001b[0m in \u001b[0;36m_getitem_column\u001b[0;34m(self, key)\u001b[0m\n\u001b[1;32m   2690\u001b[0m         \u001b[0;31m# get column\u001b[0m\u001b[0;34m\u001b[0m\u001b[0;34m\u001b[0m\u001b[0m\n\u001b[1;32m   2691\u001b[0m         \u001b[0;32mif\u001b[0m \u001b[0mself\u001b[0m\u001b[0;34m.\u001b[0m\u001b[0mcolumns\u001b[0m\u001b[0;34m.\u001b[0m\u001b[0mis_unique\u001b[0m\u001b[0;34m:\u001b[0m\u001b[0;34m\u001b[0m\u001b[0m\n\u001b[0;32m-> 2692\u001b[0;31m             \u001b[0;32mreturn\u001b[0m \u001b[0mself\u001b[0m\u001b[0;34m.\u001b[0m\u001b[0m_get_item_cache\u001b[0m\u001b[0;34m(\u001b[0m\u001b[0mkey\u001b[0m\u001b[0;34m)\u001b[0m\u001b[0;34m\u001b[0m\u001b[0m\n\u001b[0m\u001b[1;32m   2693\u001b[0m \u001b[0;34m\u001b[0m\u001b[0m\n\u001b[1;32m   2694\u001b[0m         \u001b[0;31m# duplicate columns & possible reduce dimensionality\u001b[0m\u001b[0;34m\u001b[0m\u001b[0;34m\u001b[0m\u001b[0m\n",
      "\u001b[0;32m~/conda/lib/python3.6/site-packages/pandas/core/generic.py\u001b[0m in \u001b[0;36m_get_item_cache\u001b[0;34m(self, item)\u001b[0m\n\u001b[1;32m   2484\u001b[0m         \u001b[0mres\u001b[0m \u001b[0;34m=\u001b[0m \u001b[0mcache\u001b[0m\u001b[0;34m.\u001b[0m\u001b[0mget\u001b[0m\u001b[0;34m(\u001b[0m\u001b[0mitem\u001b[0m\u001b[0;34m)\u001b[0m\u001b[0;34m\u001b[0m\u001b[0m\n\u001b[1;32m   2485\u001b[0m         \u001b[0;32mif\u001b[0m \u001b[0mres\u001b[0m \u001b[0;32mis\u001b[0m \u001b[0;32mNone\u001b[0m\u001b[0;34m:\u001b[0m\u001b[0;34m\u001b[0m\u001b[0m\n\u001b[0;32m-> 2486\u001b[0;31m             \u001b[0mvalues\u001b[0m \u001b[0;34m=\u001b[0m \u001b[0mself\u001b[0m\u001b[0;34m.\u001b[0m\u001b[0m_data\u001b[0m\u001b[0;34m.\u001b[0m\u001b[0mget\u001b[0m\u001b[0;34m(\u001b[0m\u001b[0mitem\u001b[0m\u001b[0;34m)\u001b[0m\u001b[0;34m\u001b[0m\u001b[0m\n\u001b[0m\u001b[1;32m   2487\u001b[0m             \u001b[0mres\u001b[0m \u001b[0;34m=\u001b[0m \u001b[0mself\u001b[0m\u001b[0;34m.\u001b[0m\u001b[0m_box_item_values\u001b[0m\u001b[0;34m(\u001b[0m\u001b[0mitem\u001b[0m\u001b[0;34m,\u001b[0m \u001b[0mvalues\u001b[0m\u001b[0;34m)\u001b[0m\u001b[0;34m\u001b[0m\u001b[0m\n\u001b[1;32m   2488\u001b[0m             \u001b[0mcache\u001b[0m\u001b[0;34m[\u001b[0m\u001b[0mitem\u001b[0m\u001b[0;34m]\u001b[0m \u001b[0;34m=\u001b[0m \u001b[0mres\u001b[0m\u001b[0;34m\u001b[0m\u001b[0m\n",
      "\u001b[0;32m~/conda/lib/python3.6/site-packages/pandas/core/internals.py\u001b[0m in \u001b[0;36mget\u001b[0;34m(self, item, fastpath)\u001b[0m\n\u001b[1;32m   4113\u001b[0m \u001b[0;34m\u001b[0m\u001b[0m\n\u001b[1;32m   4114\u001b[0m             \u001b[0;32mif\u001b[0m \u001b[0;32mnot\u001b[0m \u001b[0misna\u001b[0m\u001b[0;34m(\u001b[0m\u001b[0mitem\u001b[0m\u001b[0;34m)\u001b[0m\u001b[0;34m:\u001b[0m\u001b[0;34m\u001b[0m\u001b[0m\n\u001b[0;32m-> 4115\u001b[0;31m                 \u001b[0mloc\u001b[0m \u001b[0;34m=\u001b[0m \u001b[0mself\u001b[0m\u001b[0;34m.\u001b[0m\u001b[0mitems\u001b[0m\u001b[0;34m.\u001b[0m\u001b[0mget_loc\u001b[0m\u001b[0;34m(\u001b[0m\u001b[0mitem\u001b[0m\u001b[0;34m)\u001b[0m\u001b[0;34m\u001b[0m\u001b[0m\n\u001b[0m\u001b[1;32m   4116\u001b[0m             \u001b[0;32melse\u001b[0m\u001b[0;34m:\u001b[0m\u001b[0;34m\u001b[0m\u001b[0m\n\u001b[1;32m   4117\u001b[0m                 \u001b[0mindexer\u001b[0m \u001b[0;34m=\u001b[0m \u001b[0mnp\u001b[0m\u001b[0;34m.\u001b[0m\u001b[0marange\u001b[0m\u001b[0;34m(\u001b[0m\u001b[0mlen\u001b[0m\u001b[0;34m(\u001b[0m\u001b[0mself\u001b[0m\u001b[0;34m.\u001b[0m\u001b[0mitems\u001b[0m\u001b[0;34m)\u001b[0m\u001b[0;34m)\u001b[0m\u001b[0;34m[\u001b[0m\u001b[0misna\u001b[0m\u001b[0;34m(\u001b[0m\u001b[0mself\u001b[0m\u001b[0;34m.\u001b[0m\u001b[0mitems\u001b[0m\u001b[0;34m)\u001b[0m\u001b[0;34m]\u001b[0m\u001b[0;34m\u001b[0m\u001b[0m\n",
      "\u001b[0;32m~/conda/lib/python3.6/site-packages/pandas/core/indexes/base.py\u001b[0m in \u001b[0;36mget_loc\u001b[0;34m(self, key, method, tolerance)\u001b[0m\n\u001b[1;32m   3063\u001b[0m                 \u001b[0;32mreturn\u001b[0m \u001b[0mself\u001b[0m\u001b[0;34m.\u001b[0m\u001b[0m_engine\u001b[0m\u001b[0;34m.\u001b[0m\u001b[0mget_loc\u001b[0m\u001b[0;34m(\u001b[0m\u001b[0mkey\u001b[0m\u001b[0;34m)\u001b[0m\u001b[0;34m\u001b[0m\u001b[0m\n\u001b[1;32m   3064\u001b[0m             \u001b[0;32mexcept\u001b[0m \u001b[0mKeyError\u001b[0m\u001b[0;34m:\u001b[0m\u001b[0;34m\u001b[0m\u001b[0m\n\u001b[0;32m-> 3065\u001b[0;31m                 \u001b[0;32mreturn\u001b[0m \u001b[0mself\u001b[0m\u001b[0;34m.\u001b[0m\u001b[0m_engine\u001b[0m\u001b[0;34m.\u001b[0m\u001b[0mget_loc\u001b[0m\u001b[0;34m(\u001b[0m\u001b[0mself\u001b[0m\u001b[0;34m.\u001b[0m\u001b[0m_maybe_cast_indexer\u001b[0m\u001b[0;34m(\u001b[0m\u001b[0mkey\u001b[0m\u001b[0;34m)\u001b[0m\u001b[0;34m)\u001b[0m\u001b[0;34m\u001b[0m\u001b[0m\n\u001b[0m\u001b[1;32m   3066\u001b[0m \u001b[0;34m\u001b[0m\u001b[0m\n\u001b[1;32m   3067\u001b[0m         \u001b[0mindexer\u001b[0m \u001b[0;34m=\u001b[0m \u001b[0mself\u001b[0m\u001b[0;34m.\u001b[0m\u001b[0mget_indexer\u001b[0m\u001b[0;34m(\u001b[0m\u001b[0;34m[\u001b[0m\u001b[0mkey\u001b[0m\u001b[0;34m]\u001b[0m\u001b[0;34m,\u001b[0m \u001b[0mmethod\u001b[0m\u001b[0;34m=\u001b[0m\u001b[0mmethod\u001b[0m\u001b[0;34m,\u001b[0m \u001b[0mtolerance\u001b[0m\u001b[0;34m=\u001b[0m\u001b[0mtolerance\u001b[0m\u001b[0;34m)\u001b[0m\u001b[0;34m\u001b[0m\u001b[0m\n",
      "\u001b[0;32mpandas/_libs/index.pyx\u001b[0m in \u001b[0;36mpandas._libs.index.IndexEngine.get_loc\u001b[0;34m()\u001b[0m\n",
      "\u001b[0;32mpandas/_libs/index.pyx\u001b[0m in \u001b[0;36mpandas._libs.index.IndexEngine.get_loc\u001b[0;34m()\u001b[0m\n",
      "\u001b[0;32mpandas/_libs/hashtable_class_helper.pxi\u001b[0m in \u001b[0;36mpandas._libs.hashtable.PyObjectHashTable.get_item\u001b[0;34m()\u001b[0m\n",
      "\u001b[0;32mpandas/_libs/hashtable_class_helper.pxi\u001b[0m in \u001b[0;36mpandas._libs.hashtable.PyObjectHashTable.get_item\u001b[0;34m()\u001b[0m\n",
      "\u001b[0;31mKeyError\u001b[0m: 'Borough'"
     ]
    }
   ],
   "source": [
    "Ontario_data = n_hood_2[n_hood_2['Borough'] == 'Scarborough'].reset_index(drop=True)\n",
    "Ontario_data.head()\n",
    "Ontario_data.head()"
   ]
  },
  {
   "cell_type": "code",
   "execution_count": 64,
   "metadata": {},
   "outputs": [
    {
     "name": "stderr",
     "output_type": "stream",
     "text": [
      "/home/jupyterlab/conda/lib/python3.6/site-packages/geopy/geocoders/osm.py:143: UserWarning: Using Nominatim with the default \"geopy/1.17.0\" `user_agent` is strongly discouraged, as it violates Nominatim's ToS https://operations.osmfoundation.org/policies/nominatim/ and may possibly cause 403 and 429 HTTP errors. Please specify a custom `user_agent` with `Nominatim(user_agent=\"my-application\")` or by overriding the default `user_agent`: `geopy.geocoders.options.default_user_agent = \"my-application\"`. In geopy 2.0 this will become an exception.\n",
      "  UserWarning\n"
     ]
    },
    {
     "name": "stdout",
     "output_type": "stream",
     "text": [
      "The geograpical coordinate of Manhattan are 43.773077, -79.257774.\n"
     ]
    }
   ],
   "source": [
    "address = 'Scarborough, Toronto,Canada'\n",
    "\n",
    "geolocator = Nominatim()\n",
    "location = geolocator.geocode(address)\n",
    "latitude = location.latitude\n",
    "longitude = location.longitude\n",
    "print('The geograpical coordinate of Manhattan are {}, {}.'.format(latitude, longitude))"
   ]
  },
  {
   "cell_type": "code",
   "execution_count": 65,
   "metadata": {},
   "outputs": [
    {
     "ename": "NameError",
     "evalue": "name 'Ontario_data' is not defined",
     "output_type": "error",
     "traceback": [
      "\u001b[0;31m---------------------------------------------------------------------------\u001b[0m",
      "\u001b[0;31mNameError\u001b[0m                                 Traceback (most recent call last)",
      "\u001b[0;32m<ipython-input-65-029ecd15a988>\u001b[0m in \u001b[0;36m<module>\u001b[0;34m()\u001b[0m\n\u001b[1;32m      3\u001b[0m \u001b[0;34m\u001b[0m\u001b[0m\n\u001b[1;32m      4\u001b[0m \u001b[0;31m# add markers to map\u001b[0m\u001b[0;34m\u001b[0m\u001b[0;34m\u001b[0m\u001b[0m\n\u001b[0;32m----> 5\u001b[0;31m \u001b[0;32mfor\u001b[0m \u001b[0mlat\u001b[0m\u001b[0;34m,\u001b[0m \u001b[0mlng\u001b[0m\u001b[0;34m,\u001b[0m \u001b[0mlabel\u001b[0m \u001b[0;32min\u001b[0m \u001b[0mzip\u001b[0m\u001b[0;34m(\u001b[0m\u001b[0mOntario_data\u001b[0m\u001b[0;34m[\u001b[0m\u001b[0;34m'Latitude'\u001b[0m\u001b[0;34m]\u001b[0m\u001b[0;34m,\u001b[0m \u001b[0mOntario_data\u001b[0m\u001b[0;34m[\u001b[0m\u001b[0;34m'Longitude'\u001b[0m\u001b[0;34m]\u001b[0m\u001b[0;34m,\u001b[0m \u001b[0mOntario_data\u001b[0m\u001b[0;34m[\u001b[0m\u001b[0;34m'Neighbourhood'\u001b[0m\u001b[0;34m]\u001b[0m\u001b[0;34m)\u001b[0m\u001b[0;34m:\u001b[0m\u001b[0;34m\u001b[0m\u001b[0m\n\u001b[0m\u001b[1;32m      6\u001b[0m     \u001b[0mlabel\u001b[0m \u001b[0;34m=\u001b[0m \u001b[0mfolium\u001b[0m\u001b[0;34m.\u001b[0m\u001b[0mPopup\u001b[0m\u001b[0;34m(\u001b[0m\u001b[0mlabel\u001b[0m\u001b[0;34m,\u001b[0m \u001b[0mparse_html\u001b[0m\u001b[0;34m=\u001b[0m\u001b[0;32mTrue\u001b[0m\u001b[0;34m)\u001b[0m\u001b[0;34m\u001b[0m\u001b[0m\n\u001b[1;32m      7\u001b[0m     folium.CircleMarker(\n",
      "\u001b[0;31mNameError\u001b[0m: name 'Ontario_data' is not defined"
     ]
    }
   ],
   "source": [
    "# create map of Manhattan using latitude and longitude values\n",
    "map_Scarborough = folium.Map(location=[latitude, longitude], zoom_start=11)\n",
    "\n",
    "# add markers to map\n",
    "for lat, lng, label in zip(Ontario_data['Latitude'], Ontario_data['Longitude'], Ontario_data['Neighbourhood']):\n",
    "    label = folium.Popup(label, parse_html=True)\n",
    "    folium.CircleMarker(\n",
    "        [lat, lng],\n",
    "        radius=5,\n",
    "        popup=label,\n",
    "        color='blue',\n",
    "        fill=True,\n",
    "        fill_color='#3186cc',\n",
    "        fill_opacity=0.7,\n",
    "        parse_html=False).add_to(map_Scarborough)  \n",
    "    \n",
    "map_Scarborough"
   ]
  },
  {
   "cell_type": "code",
   "execution_count": null,
   "metadata": {},
   "outputs": [],
   "source": []
  }
 ],
 "metadata": {
  "kernelspec": {
   "display_name": "Python 3",
   "language": "python",
   "name": "python3"
  },
  "language_info": {
   "codemirror_mode": {
    "name": "ipython",
    "version": 3
   },
   "file_extension": ".py",
   "mimetype": "text/x-python",
   "name": "python",
   "nbconvert_exporter": "python",
   "pygments_lexer": "ipython3",
   "version": "3.6.5"
  }
 },
 "nbformat": 4,
 "nbformat_minor": 2
}
