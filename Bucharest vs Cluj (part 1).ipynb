{
 "cells": [
  {
   "cell_type": "markdown",
   "metadata": {},
   "source": [
    "Business Problem\n",
    "\n",
    "In my final project I want to explore the Bucharest and Cluj  city neighbourhoods.\n",
    "I have formed following task: suppose that I am representing a consulting agency that helps businesses and individuals to find right location for their business and living.\n",
    "I had an order from a person who wants to relocate from Bucharest (the Capital of Romania) to Cluj (also in Romania) and want to find relevant location for buying an apartment. \n",
    "The best location for him will be place that is maximum similar with his Bucharest apartment neighborhoods (Baneasa - district of North-of the city of Bucharest).\n",
    "To solve this task we have analyzed the North  regions of Bucharest city and all administrative districts of Cluj city.\n",
    "For Bucharest I decided to take the metro stations as control points of the analysis, since the metro is the basis for the city's general transport infrastructure and provides accessibility to all parts of the city.\n",
    "For Cluj as a control points I have chosen the centers of administrative regions.\n",
    "In this capstone project I have gone with these 5 steps:\n",
    "\t1\tExplore the neighborhoods of south of Bucharest and all neighborhoods of Cluj (Foursquare API)\n",
    "\t2\tJoin this datasets each other,\n",
    "\t3\tWith k-means clustering method divide explored areas to 5 clusters,\n",
    "\t4\tFind region in Cluj city that includes in the same cluster with Bucharest apartment of our client.\n",
    "\n",
    "Data\n",
    "\n",
    "For our analyze we need data from two cities – Bucharest and Cluj.\n",
    "Bucharest data:\n",
    "As we put emphasis on metro station locations and neighborhoods, we need data about all stations of Bucharest. This type of information we can get from Wikipedia page (https://en.wikipedia.org/wiki/List_of_Bucharest_metro_stations) with “Beautiful Soup”.\n",
    "After gathering information we will clean it and filter stations that included in North regions.\n",
    "Cluj data:\n",
    "Information about Cluj administrative regions we also can gather from Wikipedia page.\n",
    "My next step will be to find correct locations of chosen points with Google geocoding API.\n",
    "Next I will join to each other these two datasets and with Foursquare API find all neighbourhood venues to each point of our dataset.\n",
    "Next I will use K-means clustering method to divide dataset to clusters and find region in Cluj that includes in the same cluster with Bucharest apartment of our client."
   ]
  }
 ],
 "metadata": {
  "kernelspec": {
   "display_name": "Python 3",
   "language": "python",
   "name": "python3"
  },
  "language_info": {
   "codemirror_mode": {
    "name": "ipython",
    "version": 3
   },
   "file_extension": ".py",
   "mimetype": "text/x-python",
   "name": "python",
   "nbconvert_exporter": "python",
   "pygments_lexer": "ipython3",
   "version": "3.6.5"
  }
 },
 "nbformat": 4,
 "nbformat_minor": 2
}
